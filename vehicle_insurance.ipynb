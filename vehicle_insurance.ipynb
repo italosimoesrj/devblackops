{
 "cells": [
  {
   "cell_type": "markdown",
   "id": "37ec0b9e",
   "metadata": {},
   "source": [
    "### Conjunto de dados com registro de preço de veículos para venda de seguros."
   ]
  },
  {
   "cell_type": "markdown",
   "id": "0ddc5e1f",
   "metadata": {},
   "source": [
    "#### Importação das principais bibliotecas"
   ]
  },
  {
   "cell_type": "code",
   "execution_count": 114,
   "id": "f7756c19",
   "metadata": {},
   "outputs": [],
   "source": [
    "import pandas as pd\n",
    "import numpy as np\n",
    "import seaborn as sns\n",
    "import matplotlib.pyplot as plt\n",
    "%matplotlib inline\n",
    "from sklearn.impute import KNNImputer\n",
    "from sklearn.linear_model import LinearRegression,RidgeCV, ElasticNet,Lasso\n",
    "from sklearn.model_selection import train_test_split,cross_val_score,GridSearchCV,KFold\n",
    "from sklearn.metrics import accuracy_score,mean_squared_error,mean_absolute_error,r2_score\n",
    "from sklearn.preprocessing import PolynomialFeatures, StandardScaler\n",
    "from sklearn.neighbors import KNeighborsRegressor\n",
    "from sklearn.ensemble import RandomForestRegressor\n",
    "from sklearn.tree import DecisionTreeRegressor\n",
    "from xgboost import XGBRegressor\n",
    "#from sklearn.svm import SVR\n",
    "from sklearn.neural_network import MLPRegressor"
   ]
  },
  {
   "cell_type": "markdown",
   "id": "af460c7a",
   "metadata": {},
   "source": [
    "#### Carregamos os dados"
   ]
  },
  {
   "cell_type": "code",
   "execution_count": 274,
   "id": "32ed1dc8",
   "metadata": {},
   "outputs": [],
   "source": [
    "cclass = pd.read_csv('cclass.csv')\n",
    "focus = pd.read_csv('focus.csv')\n",
    "audi = pd.read_csv('audi.csv')\n",
    "bmw = pd.read_csv('bmw.csv')\n",
    "ford =pd.read_csv('ford.csv')\n",
    "hyundi = pd.read_csv('hyundi.csv')\n",
    "merc = pd.read_csv('merc.csv')\n",
    "skoda = pd.read_csv('skoda.csv')\n",
    "toyota = pd.read_csv('toyota.csv')\n",
    "vauxhall =pd.read_csv('vauxhall.csv')\n",
    "vw = pd.read_csv('vw.csv')"
   ]
  },
  {
   "cell_type": "markdown",
   "id": "2aa1096f",
   "metadata": {},
   "source": [
    "#### Função para redimensionamento dos gráficos e verificação das informações dos dados."
   ]
  },
  {
   "cell_type": "code",
   "execution_count": 118,
   "id": "9dcfe5c9",
   "metadata": {},
   "outputs": [],
   "source": [
    "def info_nulo(x):\n",
    "    return(x.info(),print('\\n',\"Null values\"),print('\\n'), x.isnull().sum())\n",
    "\n",
    "def resizeplot(x,y,d):\n",
    "    plt.figure(figsize=(x,y),dpi=d)"
   ]
  },
  {
   "cell_type": "code",
   "execution_count": 119,
   "id": "7f642e55",
   "metadata": {},
   "outputs": [
    {
     "name": "stdout",
     "output_type": "stream",
     "text": [
      "<class 'pandas.core.frame.DataFrame'>\n",
      "RangeIndex: 5454 entries, 0 to 5453\n",
      "Data columns (total 7 columns):\n",
      " #   Column        Non-Null Count  Dtype  \n",
      "---  ------        --------------  -----  \n",
      " 0   model         5454 non-null   object \n",
      " 1   year          5454 non-null   int64  \n",
      " 2   price         5454 non-null   int64  \n",
      " 3   transmission  5454 non-null   object \n",
      " 4   mileage       5454 non-null   int64  \n",
      " 5   fuelType      5454 non-null   object \n",
      " 6   engineSize    5454 non-null   float64\n",
      "dtypes: float64(1), int64(3), object(3)\n",
      "memory usage: 298.4+ KB\n",
      "\n",
      " Null values\n",
      "\n",
      "\n"
     ]
    },
    {
     "data": {
      "text/plain": [
       "(None,\n",
       " None,\n",
       " None,\n",
       " model           0\n",
       " year            0\n",
       " price           0\n",
       " transmission    0\n",
       " mileage         0\n",
       " fuelType        0\n",
       " engineSize      0\n",
       " dtype: int64)"
      ]
     },
     "execution_count": 119,
     "metadata": {},
     "output_type": "execute_result"
    }
   ],
   "source": [
    "info_nulo(focus)"
   ]
  },
  {
   "cell_type": "code",
   "execution_count": 120,
   "id": "44cbbb2b",
   "metadata": {},
   "outputs": [],
   "source": [
    "df = pd.concat([cclass,focus,audi,bmw,ford,hyundi,merc,skoda,toyota,vauxhall,vw],axis=0)"
   ]
  },
  {
   "cell_type": "code",
   "execution_count": 121,
   "id": "00542388",
   "metadata": {},
   "outputs": [
    {
     "data": {
      "text/plain": [
       "model                0\n",
       "year                 0\n",
       "price                0\n",
       "transmission         0\n",
       "mileage              0\n",
       "fuelType             0\n",
       "engineSize           0\n",
       "tax              14213\n",
       "mpg               9353\n",
       "tax(£)          103680\n",
       "dtype: int64"
      ]
     },
     "execution_count": 121,
     "metadata": {},
     "output_type": "execute_result"
    }
   ],
   "source": [
    "df.isnull().sum()"
   ]
  },
  {
   "cell_type": "code",
   "execution_count": 122,
   "id": "24286d5d",
   "metadata": {},
   "outputs": [],
   "source": [
    "df.drop(['tax','mpg','tax(£)'],axis=1,inplace=True)"
   ]
  },
  {
   "cell_type": "code",
   "execution_count": 123,
   "id": "6e0aa577",
   "metadata": {
    "scrolled": false
   },
   "outputs": [
    {
     "data": {
      "text/plain": [
       "model           0\n",
       "year            0\n",
       "price           0\n",
       "transmission    0\n",
       "mileage         0\n",
       "fuelType        0\n",
       "engineSize      0\n",
       "dtype: int64"
      ]
     },
     "execution_count": 123,
     "metadata": {},
     "output_type": "execute_result"
    }
   ],
   "source": [
    "df.isnull().sum()"
   ]
  },
  {
   "cell_type": "markdown",
   "id": "fbe584e7",
   "metadata": {},
   "source": [
    "## Vamos verificar os dados estatísticos do DF"
   ]
  },
  {
   "cell_type": "code",
   "execution_count": 124,
   "id": "c77c61de",
   "metadata": {
    "scrolled": false
   },
   "outputs": [
    {
     "data": {
      "text/html": [
       "<div>\n",
       "<style scoped>\n",
       "    .dataframe tbody tr th:only-of-type {\n",
       "        vertical-align: middle;\n",
       "    }\n",
       "\n",
       "    .dataframe tbody tr th {\n",
       "        vertical-align: top;\n",
       "    }\n",
       "\n",
       "    .dataframe thead th {\n",
       "        text-align: right;\n",
       "    }\n",
       "</style>\n",
       "<table border=\"1\" class=\"dataframe\">\n",
       "  <thead>\n",
       "    <tr style=\"text-align: right;\">\n",
       "      <th></th>\n",
       "      <th>year</th>\n",
       "      <th>price</th>\n",
       "      <th>mileage</th>\n",
       "      <th>engineSize</th>\n",
       "    </tr>\n",
       "  </thead>\n",
       "  <tbody>\n",
       "    <tr>\n",
       "      <th>count</th>\n",
       "      <td>108540.000000</td>\n",
       "      <td>108540.000000</td>\n",
       "      <td>108540.000000</td>\n",
       "      <td>108540.000000</td>\n",
       "    </tr>\n",
       "    <tr>\n",
       "      <th>mean</th>\n",
       "      <td>2017.098028</td>\n",
       "      <td>16890.124046</td>\n",
       "      <td>23025.928469</td>\n",
       "      <td>1.661644</td>\n",
       "    </tr>\n",
       "    <tr>\n",
       "      <th>std</th>\n",
       "      <td>2.130057</td>\n",
       "      <td>9756.266820</td>\n",
       "      <td>21176.423684</td>\n",
       "      <td>0.557058</td>\n",
       "    </tr>\n",
       "    <tr>\n",
       "      <th>min</th>\n",
       "      <td>1970.000000</td>\n",
       "      <td>450.000000</td>\n",
       "      <td>1.000000</td>\n",
       "      <td>0.000000</td>\n",
       "    </tr>\n",
       "    <tr>\n",
       "      <th>25%</th>\n",
       "      <td>2016.000000</td>\n",
       "      <td>10229.500000</td>\n",
       "      <td>7491.750000</td>\n",
       "      <td>1.200000</td>\n",
       "    </tr>\n",
       "    <tr>\n",
       "      <th>50%</th>\n",
       "      <td>2017.000000</td>\n",
       "      <td>14698.000000</td>\n",
       "      <td>17265.000000</td>\n",
       "      <td>1.600000</td>\n",
       "    </tr>\n",
       "    <tr>\n",
       "      <th>75%</th>\n",
       "      <td>2019.000000</td>\n",
       "      <td>20940.000000</td>\n",
       "      <td>32236.000000</td>\n",
       "      <td>2.000000</td>\n",
       "    </tr>\n",
       "    <tr>\n",
       "      <th>max</th>\n",
       "      <td>2060.000000</td>\n",
       "      <td>159999.000000</td>\n",
       "      <td>323000.000000</td>\n",
       "      <td>6.600000</td>\n",
       "    </tr>\n",
       "  </tbody>\n",
       "</table>\n",
       "</div>"
      ],
      "text/plain": [
       "                year          price        mileage     engineSize\n",
       "count  108540.000000  108540.000000  108540.000000  108540.000000\n",
       "mean     2017.098028   16890.124046   23025.928469       1.661644\n",
       "std         2.130057    9756.266820   21176.423684       0.557058\n",
       "min      1970.000000     450.000000       1.000000       0.000000\n",
       "25%      2016.000000   10229.500000    7491.750000       1.200000\n",
       "50%      2017.000000   14698.000000   17265.000000       1.600000\n",
       "75%      2019.000000   20940.000000   32236.000000       2.000000\n",
       "max      2060.000000  159999.000000  323000.000000       6.600000"
      ]
     },
     "execution_count": 124,
     "metadata": {},
     "output_type": "execute_result"
    }
   ],
   "source": [
    "df.describe()"
   ]
  },
  {
   "cell_type": "code",
   "execution_count": 125,
   "id": "4bb65531",
   "metadata": {
    "scrolled": true
   },
   "outputs": [
    {
     "data": {
      "text/html": [
       "<div>\n",
       "<style scoped>\n",
       "    .dataframe tbody tr th:only-of-type {\n",
       "        vertical-align: middle;\n",
       "    }\n",
       "\n",
       "    .dataframe tbody tr th {\n",
       "        vertical-align: top;\n",
       "    }\n",
       "\n",
       "    .dataframe thead th {\n",
       "        text-align: right;\n",
       "    }\n",
       "</style>\n",
       "<table border=\"1\" class=\"dataframe\">\n",
       "  <thead>\n",
       "    <tr style=\"text-align: right;\">\n",
       "      <th></th>\n",
       "      <th>model</th>\n",
       "      <th>year</th>\n",
       "      <th>price</th>\n",
       "      <th>transmission</th>\n",
       "      <th>mileage</th>\n",
       "      <th>fuelType</th>\n",
       "      <th>engineSize</th>\n",
       "    </tr>\n",
       "  </thead>\n",
       "  <tbody>\n",
       "    <tr>\n",
       "      <th>0</th>\n",
       "      <td>C Class</td>\n",
       "      <td>2020</td>\n",
       "      <td>30495</td>\n",
       "      <td>Automatic</td>\n",
       "      <td>1200</td>\n",
       "      <td>Diesel</td>\n",
       "      <td>2.0</td>\n",
       "    </tr>\n",
       "    <tr>\n",
       "      <th>1</th>\n",
       "      <td>C Class</td>\n",
       "      <td>2020</td>\n",
       "      <td>29989</td>\n",
       "      <td>Automatic</td>\n",
       "      <td>1000</td>\n",
       "      <td>Petrol</td>\n",
       "      <td>1.5</td>\n",
       "    </tr>\n",
       "    <tr>\n",
       "      <th>2</th>\n",
       "      <td>C Class</td>\n",
       "      <td>2020</td>\n",
       "      <td>37899</td>\n",
       "      <td>Automatic</td>\n",
       "      <td>500</td>\n",
       "      <td>Diesel</td>\n",
       "      <td>2.0</td>\n",
       "    </tr>\n",
       "    <tr>\n",
       "      <th>3</th>\n",
       "      <td>C Class</td>\n",
       "      <td>2019</td>\n",
       "      <td>30399</td>\n",
       "      <td>Automatic</td>\n",
       "      <td>5000</td>\n",
       "      <td>Diesel</td>\n",
       "      <td>2.0</td>\n",
       "    </tr>\n",
       "    <tr>\n",
       "      <th>4</th>\n",
       "      <td>C Class</td>\n",
       "      <td>2019</td>\n",
       "      <td>29899</td>\n",
       "      <td>Automatic</td>\n",
       "      <td>4500</td>\n",
       "      <td>Diesel</td>\n",
       "      <td>2.0</td>\n",
       "    </tr>\n",
       "    <tr>\n",
       "      <th>...</th>\n",
       "      <td>...</td>\n",
       "      <td>...</td>\n",
       "      <td>...</td>\n",
       "      <td>...</td>\n",
       "      <td>...</td>\n",
       "      <td>...</td>\n",
       "      <td>...</td>\n",
       "    </tr>\n",
       "    <tr>\n",
       "      <th>15152</th>\n",
       "      <td>Eos</td>\n",
       "      <td>2012</td>\n",
       "      <td>5990</td>\n",
       "      <td>Manual</td>\n",
       "      <td>74000</td>\n",
       "      <td>Diesel</td>\n",
       "      <td>2.0</td>\n",
       "    </tr>\n",
       "    <tr>\n",
       "      <th>15153</th>\n",
       "      <td>Fox</td>\n",
       "      <td>2008</td>\n",
       "      <td>1799</td>\n",
       "      <td>Manual</td>\n",
       "      <td>88102</td>\n",
       "      <td>Petrol</td>\n",
       "      <td>1.2</td>\n",
       "    </tr>\n",
       "    <tr>\n",
       "      <th>15154</th>\n",
       "      <td>Fox</td>\n",
       "      <td>2009</td>\n",
       "      <td>1590</td>\n",
       "      <td>Manual</td>\n",
       "      <td>70000</td>\n",
       "      <td>Petrol</td>\n",
       "      <td>1.4</td>\n",
       "    </tr>\n",
       "    <tr>\n",
       "      <th>15155</th>\n",
       "      <td>Fox</td>\n",
       "      <td>2006</td>\n",
       "      <td>1250</td>\n",
       "      <td>Manual</td>\n",
       "      <td>82704</td>\n",
       "      <td>Petrol</td>\n",
       "      <td>1.2</td>\n",
       "    </tr>\n",
       "    <tr>\n",
       "      <th>15156</th>\n",
       "      <td>Fox</td>\n",
       "      <td>2007</td>\n",
       "      <td>2295</td>\n",
       "      <td>Manual</td>\n",
       "      <td>74000</td>\n",
       "      <td>Petrol</td>\n",
       "      <td>1.2</td>\n",
       "    </tr>\n",
       "  </tbody>\n",
       "</table>\n",
       "<p>108540 rows × 7 columns</p>\n",
       "</div>"
      ],
      "text/plain": [
       "          model  year  price transmission  mileage fuelType  engineSize\n",
       "0       C Class  2020  30495    Automatic     1200   Diesel         2.0\n",
       "1       C Class  2020  29989    Automatic     1000   Petrol         1.5\n",
       "2       C Class  2020  37899    Automatic      500   Diesel         2.0\n",
       "3       C Class  2019  30399    Automatic     5000   Diesel         2.0\n",
       "4       C Class  2019  29899    Automatic     4500   Diesel         2.0\n",
       "...         ...   ...    ...          ...      ...      ...         ...\n",
       "15152       Eos  2012   5990       Manual    74000   Diesel         2.0\n",
       "15153       Fox  2008   1799       Manual    88102   Petrol         1.2\n",
       "15154       Fox  2009   1590       Manual    70000   Petrol         1.4\n",
       "15155       Fox  2006   1250       Manual    82704   Petrol         1.2\n",
       "15156       Fox  2007   2295       Manual    74000   Petrol         1.2\n",
       "\n",
       "[108540 rows x 7 columns]"
      ]
     },
     "execution_count": 125,
     "metadata": {},
     "output_type": "execute_result"
    }
   ],
   "source": [
    "df"
   ]
  },
  {
   "cell_type": "markdown",
   "id": "3efd701e",
   "metadata": {},
   "source": [
    "## Reorganizando os dados"
   ]
  },
  {
   "cell_type": "code",
   "execution_count": 126,
   "id": "ef69b992",
   "metadata": {},
   "outputs": [],
   "source": [
    "df.reset_index(drop=True,inplace=True)"
   ]
  },
  {
   "cell_type": "code",
   "execution_count": 127,
   "id": "25944d48",
   "metadata": {
    "scrolled": true
   },
   "outputs": [
    {
     "data": {
      "text/html": [
       "<div>\n",
       "<style scoped>\n",
       "    .dataframe tbody tr th:only-of-type {\n",
       "        vertical-align: middle;\n",
       "    }\n",
       "\n",
       "    .dataframe tbody tr th {\n",
       "        vertical-align: top;\n",
       "    }\n",
       "\n",
       "    .dataframe thead th {\n",
       "        text-align: right;\n",
       "    }\n",
       "</style>\n",
       "<table border=\"1\" class=\"dataframe\">\n",
       "  <thead>\n",
       "    <tr style=\"text-align: right;\">\n",
       "      <th></th>\n",
       "      <th>model</th>\n",
       "      <th>year</th>\n",
       "      <th>price</th>\n",
       "      <th>transmission</th>\n",
       "      <th>mileage</th>\n",
       "      <th>fuelType</th>\n",
       "      <th>engineSize</th>\n",
       "    </tr>\n",
       "  </thead>\n",
       "  <tbody>\n",
       "    <tr>\n",
       "      <th>0</th>\n",
       "      <td>C Class</td>\n",
       "      <td>2020</td>\n",
       "      <td>30495</td>\n",
       "      <td>Automatic</td>\n",
       "      <td>1200</td>\n",
       "      <td>Diesel</td>\n",
       "      <td>2.0</td>\n",
       "    </tr>\n",
       "    <tr>\n",
       "      <th>1</th>\n",
       "      <td>C Class</td>\n",
       "      <td>2020</td>\n",
       "      <td>29989</td>\n",
       "      <td>Automatic</td>\n",
       "      <td>1000</td>\n",
       "      <td>Petrol</td>\n",
       "      <td>1.5</td>\n",
       "    </tr>\n",
       "    <tr>\n",
       "      <th>2</th>\n",
       "      <td>C Class</td>\n",
       "      <td>2020</td>\n",
       "      <td>37899</td>\n",
       "      <td>Automatic</td>\n",
       "      <td>500</td>\n",
       "      <td>Diesel</td>\n",
       "      <td>2.0</td>\n",
       "    </tr>\n",
       "    <tr>\n",
       "      <th>3</th>\n",
       "      <td>C Class</td>\n",
       "      <td>2019</td>\n",
       "      <td>30399</td>\n",
       "      <td>Automatic</td>\n",
       "      <td>5000</td>\n",
       "      <td>Diesel</td>\n",
       "      <td>2.0</td>\n",
       "    </tr>\n",
       "    <tr>\n",
       "      <th>4</th>\n",
       "      <td>C Class</td>\n",
       "      <td>2019</td>\n",
       "      <td>29899</td>\n",
       "      <td>Automatic</td>\n",
       "      <td>4500</td>\n",
       "      <td>Diesel</td>\n",
       "      <td>2.0</td>\n",
       "    </tr>\n",
       "  </tbody>\n",
       "</table>\n",
       "</div>"
      ],
      "text/plain": [
       "      model  year  price transmission  mileage fuelType  engineSize\n",
       "0   C Class  2020  30495    Automatic     1200   Diesel         2.0\n",
       "1   C Class  2020  29989    Automatic     1000   Petrol         1.5\n",
       "2   C Class  2020  37899    Automatic      500   Diesel         2.0\n",
       "3   C Class  2019  30399    Automatic     5000   Diesel         2.0\n",
       "4   C Class  2019  29899    Automatic     4500   Diesel         2.0"
      ]
     },
     "execution_count": 127,
     "metadata": {},
     "output_type": "execute_result"
    }
   ],
   "source": [
    "df.head()"
   ]
  },
  {
   "cell_type": "code",
   "execution_count": 128,
   "id": "b227d8e2",
   "metadata": {
    "scrolled": false
   },
   "outputs": [
    {
     "data": {
      "text/plain": [
       "array([' C Class', ' Focus', ' A1', ' A6', ' A4', ' A3', ' Q3', ' Q5',\n",
       "       ' A5', ' S4', ' Q2', ' A7', ' TT', ' Q7', ' RS6', ' RS3', ' A8',\n",
       "       ' Q8', ' RS4', ' RS5', ' R8', ' SQ5', ' S8', ' SQ7', ' S3', ' S5',\n",
       "       ' A2', ' RS7', ' 5 Series', ' 6 Series', ' 1 Series', ' 7 Series',\n",
       "       ' 2 Series', ' 4 Series', ' X3', ' 3 Series', ' X5', ' X4', ' i3',\n",
       "       ' X1', ' M4', ' X2', ' X6', ' 8 Series', ' Z4', ' X7', ' M5',\n",
       "       ' i8', ' M2', ' M3', ' M6', ' Z3', ' Fiesta', ' Puma', ' Kuga',\n",
       "       ' EcoSport', ' C-MAX', ' Mondeo', ' Ka+', ' Tourneo Custom',\n",
       "       ' S-MAX', ' B-MAX', ' Edge', ' Tourneo Connect', ' Grand C-MAX',\n",
       "       ' KA', ' Galaxy', ' Mustang', ' Grand Tourneo Connect', ' Fusion',\n",
       "       ' Ranger', ' Streetka', ' Escort', ' Transit Tourneo', ' I20',\n",
       "       ' Tucson', ' I10', ' IX35', ' I30', ' I40', ' Ioniq', ' Kona',\n",
       "       ' Veloster', ' I800', ' IX20', ' Santa Fe', ' Accent', ' Terracan',\n",
       "       ' Getz', ' Amica', ' SLK', ' S Class', ' SL CLASS', ' G Class',\n",
       "       ' GLE Class', ' GLA Class', ' A Class', ' B Class', ' GLC Class',\n",
       "       ' E Class', ' GL Class', ' CLS Class', ' CLC Class', ' CLA Class',\n",
       "       ' V Class', ' M Class', ' CL Class', ' GLS Class', ' GLB Class',\n",
       "       ' X-CLASS', '180', ' CLK', ' R Class', '230', '220', '200',\n",
       "       ' Octavia', ' Citigo', ' Yeti Outdoor', ' Superb', ' Kodiaq',\n",
       "       ' Rapid', ' Karoq', ' Fabia', ' Yeti', ' Scala', ' Roomster',\n",
       "       ' Kamiq', ' GT86', ' Corolla', ' RAV4', ' Yaris', ' Auris',\n",
       "       ' Aygo', ' C-HR', ' Prius', ' Avensis', ' Verso', ' Hilux',\n",
       "       ' PROACE VERSO', ' Land Cruiser', ' Supra', ' Camry', ' Verso-S',\n",
       "       ' IQ', ' Urban Cruiser', ' Corsa', ' Astra', ' Viva', ' Mokka',\n",
       "       ' Mokka X', ' Crossland X', ' Zafira', ' Meriva', ' Zafira Tourer',\n",
       "       ' Adam', ' Grandland X', ' Antara', ' Insignia', ' Ampera', ' GTC',\n",
       "       ' Combo Life', ' Vivaro', ' Cascada', ' Kadjar', ' Agila',\n",
       "       ' Tigra', ' Vectra', ' T-Roc', ' Golf', ' Passat', ' T-Cross',\n",
       "       ' Polo', ' Tiguan', ' Sharan', ' Up', ' Scirocco', ' Beetle',\n",
       "       ' Caddy Maxi Life', ' Caravelle', ' Touareg', ' Arteon', ' Touran',\n",
       "       ' Golf SV', ' Amarok', ' Tiguan Allspace', ' Shuttle', ' Jetta',\n",
       "       ' CC', ' California', ' Caddy Life', ' Caddy', ' Caddy Maxi',\n",
       "       ' Eos', ' Fox'], dtype=object)"
      ]
     },
     "execution_count": 128,
     "metadata": {},
     "output_type": "execute_result"
    }
   ],
   "source": [
    "df['model'].unique()"
   ]
  },
  {
   "cell_type": "code",
   "execution_count": 129,
   "id": "179de28d",
   "metadata": {
    "scrolled": true
   },
   "outputs": [
    {
     "data": {
      "text/plain": [
       "array([2020, 2019, 2013, 2012, 2011, 2015, 2016, 2017, 2018, 2014, 2009,\n",
       "       2007, 2010, 2008, 2005, 2006, 2002, 1991, 1995, 2004, 2003, 1998,\n",
       "       1997, 2001, 2000, 1999, 1996, 2060, 1970])"
      ]
     },
     "execution_count": 129,
     "metadata": {},
     "output_type": "execute_result"
    }
   ],
   "source": [
    "df['year'].unique()"
   ]
  },
  {
   "cell_type": "markdown",
   "id": "96012fdf",
   "metadata": {},
   "source": [
    "#### Verificando suas relações"
   ]
  },
  {
   "cell_type": "code",
   "execution_count": 130,
   "id": "9e569e08",
   "metadata": {},
   "outputs": [],
   "source": [
    "dados = df[['year','price','mileage','engineSize']]"
   ]
  },
  {
   "cell_type": "code",
   "execution_count": 131,
   "id": "bc642182",
   "metadata": {
    "scrolled": true
   },
   "outputs": [
    {
     "data": {
      "text/plain": [
       "<seaborn.axisgrid.PairGrid at 0x7f9ec646dd00>"
      ]
     },
     "execution_count": 131,
     "metadata": {},
     "output_type": "execute_result"
    },
    {
     "data": {
      "image/png": "[encoded data removed]",
      "text/plain": [
       "<Figure size 720x720 with 20 Axes>"
      ]
     },
     "metadata": {
      "needs_background": "light"
     },
     "output_type": "display_data"
    }
   ],
   "source": [
    "sns.pairplot(dados)"
   ]
  },
  {
   "cell_type": "markdown",
   "id": "db39a91f",
   "metadata": {},
   "source": [
    "#### Aqui uma visão mas detalhada das correlações.\n",
    "#### Uma relação maior entre o ano e o preço o que faz\n",
    "#### sentido pois o preço varia com o ano."
   ]
  },
  {
   "cell_type": "code",
   "execution_count": 132,
   "id": "c2de84ff",
   "metadata": {
    "scrolled": true
   },
   "outputs": [
    {
     "data": {
      "text/plain": [
       "<AxesSubplot:>"
      ]
     },
     "execution_count": 132,
     "metadata": {},
     "output_type": "execute_result"
    },
    {
     "data": {
      "image/png": "[encoded data removed]",
      "text/plain": [
       "<Figure size 900x540 with 2 Axes>"
      ]
     },
     "metadata": {
      "needs_background": "light"
     },
     "output_type": "display_data"
    }
   ],
   "source": [
    "resizeplot(10,6,90)\n",
    "sns.heatmap(dados.corr(),cmap='viridis',annot=True)"
   ]
  },
  {
   "cell_type": "markdown",
   "id": "ea8d945d",
   "metadata": {},
   "source": [
    "###  Vamos ver o carro mais caro."
   ]
  },
  {
   "cell_type": "code",
   "execution_count": 133,
   "id": "f7c42650",
   "metadata": {
    "scrolled": true
   },
   "outputs": [
    {
     "data": {
      "text/plain": [
       "model             G Class\n",
       "year                 2020\n",
       "price              159999\n",
       "transmission    Semi-Auto\n",
       "mileage              1350\n",
       "fuelType           Petrol\n",
       "engineSize            4.0\n",
       "Name: 59826, dtype: object"
      ]
     },
     "execution_count": 133,
     "metadata": {},
     "output_type": "execute_result"
    }
   ],
   "source": [
    "df.loc[df['price'].idxmax()]"
   ]
  },
  {
   "cell_type": "markdown",
   "id": "e0d22c01",
   "metadata": {},
   "source": [
    "#### Aqui um comparativo de distribuição do preço e das milhas percorridas. Um pouco similares."
   ]
  },
  {
   "cell_type": "code",
   "execution_count": 134,
   "id": "abe70b47",
   "metadata": {
    "scrolled": true
   },
   "outputs": [
    {
     "data": {
      "text/plain": [
       "<AxesSubplot:xlabel='mileage', ylabel='Count'>"
      ]
     },
     "execution_count": 134,
     "metadata": {},
     "output_type": "execute_result"
    },
    {
     "data": {
      "image/png": "[encoded data removed]",
      "text/plain": [
       "<Figure size 1080x432 with 2 Axes>"
      ]
     },
     "metadata": {
      "needs_background": "light"
     },
     "output_type": "display_data"
    }
   ],
   "source": [
    "fig, ax =plt.subplots(1,2,figsize= (15,6))\n",
    "sns.histplot(df['price'],ax=ax[0],bins=50)\n",
    "sns.histplot(df['mileage'],ax=ax[1],bins=50)"
   ]
  },
  {
   "cell_type": "markdown",
   "id": "7e0250f8",
   "metadata": {},
   "source": [
    "#### Abaixo, um comparativo dos anos."
   ]
  },
  {
   "cell_type": "code",
   "execution_count": 135,
   "id": "27c81be0",
   "metadata": {
    "scrolled": false
   },
   "outputs": [
    {
     "data": {
      "image/png": "[encoded data removed]",
      "text/plain": [
       "<Figure size 900x540 with 1 Axes>"
      ]
     },
     "metadata": {
      "needs_background": "light"
     },
     "output_type": "display_data"
    }
   ],
   "source": [
    "resizeplot(10,6,90)\n",
    "sns.countplot(x='year',data=df)\n",
    "plt.xticks(rotation=(90));"
   ]
  },
  {
   "cell_type": "markdown",
   "id": "d82d129e",
   "metadata": {},
   "source": [
    "#### Explorando a potência dos veículos."
   ]
  },
  {
   "cell_type": "code",
   "execution_count": 136,
   "id": "6d1c3137",
   "metadata": {},
   "outputs": [
    {
     "data": {
      "image/png": "[encoded data removed]",
      "text/plain": [
       "<Figure size 900x540 with 1 Axes>"
      ]
     },
     "metadata": {
      "needs_background": "light"
     },
     "output_type": "display_data"
    }
   ],
   "source": [
    "resizeplot(10,6,90)\n",
    "sns.countplot(x=df['engineSize'])\n",
    "plt.xticks(rotation=(90));"
   ]
  },
  {
   "cell_type": "code",
   "execution_count": 137,
   "id": "f4453270",
   "metadata": {},
   "outputs": [
    {
     "data": {
      "text/html": [
       "<div>\n",
       "<style scoped>\n",
       "    .dataframe tbody tr th:only-of-type {\n",
       "        vertical-align: middle;\n",
       "    }\n",
       "\n",
       "    .dataframe tbody tr th {\n",
       "        vertical-align: top;\n",
       "    }\n",
       "\n",
       "    .dataframe thead th {\n",
       "        text-align: right;\n",
       "    }\n",
       "</style>\n",
       "<table border=\"1\" class=\"dataframe\">\n",
       "  <thead>\n",
       "    <tr style=\"text-align: right;\">\n",
       "      <th></th>\n",
       "      <th>model</th>\n",
       "      <th>year</th>\n",
       "      <th>price</th>\n",
       "      <th>transmission</th>\n",
       "      <th>mileage</th>\n",
       "      <th>fuelType</th>\n",
       "      <th>engineSize</th>\n",
       "    </tr>\n",
       "  </thead>\n",
       "  <tbody>\n",
       "    <tr>\n",
       "      <th>13753</th>\n",
       "      <td>RS6</td>\n",
       "      <td>2020</td>\n",
       "      <td>102544</td>\n",
       "      <td>Semi-Auto</td>\n",
       "      <td>2000</td>\n",
       "      <td>Petrol</td>\n",
       "      <td>4.0</td>\n",
       "    </tr>\n",
       "    <tr>\n",
       "      <th>15737</th>\n",
       "      <td>RS6</td>\n",
       "      <td>2020</td>\n",
       "      <td>109495</td>\n",
       "      <td>Semi-Auto</td>\n",
       "      <td>1500</td>\n",
       "      <td>Petrol</td>\n",
       "      <td>4.0</td>\n",
       "    </tr>\n",
       "    <tr>\n",
       "      <th>19578</th>\n",
       "      <td>RS6</td>\n",
       "      <td>2020</td>\n",
       "      <td>104948</td>\n",
       "      <td>Automatic</td>\n",
       "      <td>3000</td>\n",
       "      <td>Petrol</td>\n",
       "      <td>4.0</td>\n",
       "    </tr>\n",
       "    <tr>\n",
       "      <th>53635</th>\n",
       "      <td>G Class</td>\n",
       "      <td>2019</td>\n",
       "      <td>139948</td>\n",
       "      <td>Automatic</td>\n",
       "      <td>12000</td>\n",
       "      <td>Petrol</td>\n",
       "      <td>4.0</td>\n",
       "    </tr>\n",
       "    <tr>\n",
       "      <th>54638</th>\n",
       "      <td>A Class</td>\n",
       "      <td>2019</td>\n",
       "      <td>104999</td>\n",
       "      <td>Semi-Auto</td>\n",
       "      <td>5822</td>\n",
       "      <td>Petrol</td>\n",
       "      <td>4.0</td>\n",
       "    </tr>\n",
       "    <tr>\n",
       "      <th>55607</th>\n",
       "      <td>S Class</td>\n",
       "      <td>2019</td>\n",
       "      <td>109995</td>\n",
       "      <td>Semi-Auto</td>\n",
       "      <td>4688</td>\n",
       "      <td>Petrol</td>\n",
       "      <td>4.0</td>\n",
       "    </tr>\n",
       "    <tr>\n",
       "      <th>56256</th>\n",
       "      <td>A Class</td>\n",
       "      <td>2019</td>\n",
       "      <td>123846</td>\n",
       "      <td>Semi-Auto</td>\n",
       "      <td>2951</td>\n",
       "      <td>Petrol</td>\n",
       "      <td>4.0</td>\n",
       "    </tr>\n",
       "    <tr>\n",
       "      <th>56274</th>\n",
       "      <td>A Class</td>\n",
       "      <td>2019</td>\n",
       "      <td>125796</td>\n",
       "      <td>Automatic</td>\n",
       "      <td>637</td>\n",
       "      <td>Petrol</td>\n",
       "      <td>4.0</td>\n",
       "    </tr>\n",
       "    <tr>\n",
       "      <th>57714</th>\n",
       "      <td>S Class</td>\n",
       "      <td>2019</td>\n",
       "      <td>104590</td>\n",
       "      <td>Automatic</td>\n",
       "      <td>3671</td>\n",
       "      <td>Petrol</td>\n",
       "      <td>4.0</td>\n",
       "    </tr>\n",
       "    <tr>\n",
       "      <th>57721</th>\n",
       "      <td>A Class</td>\n",
       "      <td>2019</td>\n",
       "      <td>124366</td>\n",
       "      <td>Semi-Auto</td>\n",
       "      <td>880</td>\n",
       "      <td>Petrol</td>\n",
       "      <td>4.0</td>\n",
       "    </tr>\n",
       "    <tr>\n",
       "      <th>57836</th>\n",
       "      <td>S Class</td>\n",
       "      <td>2018</td>\n",
       "      <td>104400</td>\n",
       "      <td>Semi-Auto</td>\n",
       "      <td>3796</td>\n",
       "      <td>Petrol</td>\n",
       "      <td>4.0</td>\n",
       "    </tr>\n",
       "    <tr>\n",
       "      <th>58386</th>\n",
       "      <td>A Class</td>\n",
       "      <td>2019</td>\n",
       "      <td>126000</td>\n",
       "      <td>Automatic</td>\n",
       "      <td>250</td>\n",
       "      <td>Petrol</td>\n",
       "      <td>4.0</td>\n",
       "    </tr>\n",
       "    <tr>\n",
       "      <th>58938</th>\n",
       "      <td>A Class</td>\n",
       "      <td>2019</td>\n",
       "      <td>105000</td>\n",
       "      <td>Semi-Auto</td>\n",
       "      <td>6807</td>\n",
       "      <td>Petrol</td>\n",
       "      <td>4.0</td>\n",
       "    </tr>\n",
       "    <tr>\n",
       "      <th>59529</th>\n",
       "      <td>G Class</td>\n",
       "      <td>2018</td>\n",
       "      <td>135771</td>\n",
       "      <td>Semi-Auto</td>\n",
       "      <td>19000</td>\n",
       "      <td>Petrol</td>\n",
       "      <td>4.0</td>\n",
       "    </tr>\n",
       "    <tr>\n",
       "      <th>59826</th>\n",
       "      <td>G Class</td>\n",
       "      <td>2020</td>\n",
       "      <td>159999</td>\n",
       "      <td>Semi-Auto</td>\n",
       "      <td>1350</td>\n",
       "      <td>Petrol</td>\n",
       "      <td>4.0</td>\n",
       "    </tr>\n",
       "    <tr>\n",
       "      <th>59837</th>\n",
       "      <td>A Class</td>\n",
       "      <td>2019</td>\n",
       "      <td>129990</td>\n",
       "      <td>Automatic</td>\n",
       "      <td>1000</td>\n",
       "      <td>Petrol</td>\n",
       "      <td>4.0</td>\n",
       "    </tr>\n",
       "    <tr>\n",
       "      <th>59850</th>\n",
       "      <td>S Class</td>\n",
       "      <td>2019</td>\n",
       "      <td>124999</td>\n",
       "      <td>Automatic</td>\n",
       "      <td>1500</td>\n",
       "      <td>Petrol</td>\n",
       "      <td>4.0</td>\n",
       "    </tr>\n",
       "    <tr>\n",
       "      <th>60013</th>\n",
       "      <td>G Class</td>\n",
       "      <td>2018</td>\n",
       "      <td>139995</td>\n",
       "      <td>Semi-Auto</td>\n",
       "      <td>13046</td>\n",
       "      <td>Petrol</td>\n",
       "      <td>4.0</td>\n",
       "    </tr>\n",
       "    <tr>\n",
       "      <th>60761</th>\n",
       "      <td>A Class</td>\n",
       "      <td>2019</td>\n",
       "      <td>115359</td>\n",
       "      <td>Semi-Auto</td>\n",
       "      <td>1000</td>\n",
       "      <td>Petrol</td>\n",
       "      <td>4.0</td>\n",
       "    </tr>\n",
       "    <tr>\n",
       "      <th>61455</th>\n",
       "      <td>A Class</td>\n",
       "      <td>2019</td>\n",
       "      <td>109445</td>\n",
       "      <td>Automatic</td>\n",
       "      <td>195</td>\n",
       "      <td>Petrol</td>\n",
       "      <td>4.0</td>\n",
       "    </tr>\n",
       "    <tr>\n",
       "      <th>61491</th>\n",
       "      <td>G Class</td>\n",
       "      <td>2018</td>\n",
       "      <td>135124</td>\n",
       "      <td>Semi-Auto</td>\n",
       "      <td>18234</td>\n",
       "      <td>Petrol</td>\n",
       "      <td>4.0</td>\n",
       "    </tr>\n",
       "    <tr>\n",
       "      <th>62300</th>\n",
       "      <td>A Class</td>\n",
       "      <td>2019</td>\n",
       "      <td>134219</td>\n",
       "      <td>Semi-Auto</td>\n",
       "      <td>1000</td>\n",
       "      <td>Petrol</td>\n",
       "      <td>4.0</td>\n",
       "    </tr>\n",
       "    <tr>\n",
       "      <th>62364</th>\n",
       "      <td>A Class</td>\n",
       "      <td>2019</td>\n",
       "      <td>140319</td>\n",
       "      <td>Semi-Auto</td>\n",
       "      <td>785</td>\n",
       "      <td>Petrol</td>\n",
       "      <td>4.0</td>\n",
       "    </tr>\n",
       "    <tr>\n",
       "      <th>62372</th>\n",
       "      <td>A Class</td>\n",
       "      <td>2018</td>\n",
       "      <td>109989</td>\n",
       "      <td>Semi-Auto</td>\n",
       "      <td>2122</td>\n",
       "      <td>Petrol</td>\n",
       "      <td>4.0</td>\n",
       "    </tr>\n",
       "    <tr>\n",
       "      <th>62448</th>\n",
       "      <td>A Class</td>\n",
       "      <td>2020</td>\n",
       "      <td>138439</td>\n",
       "      <td>Semi-Auto</td>\n",
       "      <td>1000</td>\n",
       "      <td>Petrol</td>\n",
       "      <td>4.0</td>\n",
       "    </tr>\n",
       "    <tr>\n",
       "      <th>62760</th>\n",
       "      <td>A Class</td>\n",
       "      <td>2019</td>\n",
       "      <td>139559</td>\n",
       "      <td>Semi-Auto</td>\n",
       "      <td>1000</td>\n",
       "      <td>Petrol</td>\n",
       "      <td>4.0</td>\n",
       "    </tr>\n",
       "    <tr>\n",
       "      <th>62786</th>\n",
       "      <td>A Class</td>\n",
       "      <td>2019</td>\n",
       "      <td>114199</td>\n",
       "      <td>Semi-Auto</td>\n",
       "      <td>891</td>\n",
       "      <td>Petrol</td>\n",
       "      <td>4.0</td>\n",
       "    </tr>\n",
       "    <tr>\n",
       "      <th>62868</th>\n",
       "      <td>A Class</td>\n",
       "      <td>2017</td>\n",
       "      <td>100124</td>\n",
       "      <td>Automatic</td>\n",
       "      <td>439</td>\n",
       "      <td>Petrol</td>\n",
       "      <td>4.0</td>\n",
       "    </tr>\n",
       "    <tr>\n",
       "      <th>63671</th>\n",
       "      <td>G Class</td>\n",
       "      <td>2020</td>\n",
       "      <td>154998</td>\n",
       "      <td>Automatic</td>\n",
       "      <td>3000</td>\n",
       "      <td>Petrol</td>\n",
       "      <td>4.0</td>\n",
       "    </tr>\n",
       "    <tr>\n",
       "      <th>66687</th>\n",
       "      <td>A Class</td>\n",
       "      <td>2017</td>\n",
       "      <td>109495</td>\n",
       "      <td>Automatic</td>\n",
       "      <td>1755</td>\n",
       "      <td>Petrol</td>\n",
       "      <td>4.0</td>\n",
       "    </tr>\n",
       "  </tbody>\n",
       "</table>\n",
       "</div>"
      ],
      "text/plain": [
       "          model  year   price transmission  mileage fuelType  engineSize\n",
       "13753       RS6  2020  102544    Semi-Auto     2000   Petrol         4.0\n",
       "15737       RS6  2020  109495    Semi-Auto     1500   Petrol         4.0\n",
       "19578       RS6  2020  104948    Automatic     3000   Petrol         4.0\n",
       "53635   G Class  2019  139948    Automatic    12000   Petrol         4.0\n",
       "54638   A Class  2019  104999    Semi-Auto     5822   Petrol         4.0\n",
       "55607   S Class  2019  109995    Semi-Auto     4688   Petrol         4.0\n",
       "56256   A Class  2019  123846    Semi-Auto     2951   Petrol         4.0\n",
       "56274   A Class  2019  125796    Automatic      637   Petrol         4.0\n",
       "57714   S Class  2019  104590    Automatic     3671   Petrol         4.0\n",
       "57721   A Class  2019  124366    Semi-Auto      880   Petrol         4.0\n",
       "57836   S Class  2018  104400    Semi-Auto     3796   Petrol         4.0\n",
       "58386   A Class  2019  126000    Automatic      250   Petrol         4.0\n",
       "58938   A Class  2019  105000    Semi-Auto     6807   Petrol         4.0\n",
       "59529   G Class  2018  135771    Semi-Auto    19000   Petrol         4.0\n",
       "59826   G Class  2020  159999    Semi-Auto     1350   Petrol         4.0\n",
       "59837   A Class  2019  129990    Automatic     1000   Petrol         4.0\n",
       "59850   S Class  2019  124999    Automatic     1500   Petrol         4.0\n",
       "60013   G Class  2018  139995    Semi-Auto    13046   Petrol         4.0\n",
       "60761   A Class  2019  115359    Semi-Auto     1000   Petrol         4.0\n",
       "61455   A Class  2019  109445    Automatic      195   Petrol         4.0\n",
       "61491   G Class  2018  135124    Semi-Auto    18234   Petrol         4.0\n",
       "62300   A Class  2019  134219    Semi-Auto     1000   Petrol         4.0\n",
       "62364   A Class  2019  140319    Semi-Auto      785   Petrol         4.0\n",
       "62372   A Class  2018  109989    Semi-Auto     2122   Petrol         4.0\n",
       "62448   A Class  2020  138439    Semi-Auto     1000   Petrol         4.0\n",
       "62760   A Class  2019  139559    Semi-Auto     1000   Petrol         4.0\n",
       "62786   A Class  2019  114199    Semi-Auto      891   Petrol         4.0\n",
       "62868   A Class  2017  100124    Automatic      439   Petrol         4.0\n",
       "63671   G Class  2020  154998    Automatic     3000   Petrol         4.0\n",
       "66687   A Class  2017  109495    Automatic     1755   Petrol         4.0"
      ]
     },
     "execution_count": 137,
     "metadata": {},
     "output_type": "execute_result"
    }
   ],
   "source": [
    "df[(df['engineSize']==4.0)& (df['price']>100000)]"
   ]
  },
  {
   "cell_type": "code",
   "execution_count": 138,
   "id": "70d62f29",
   "metadata": {
    "scrolled": true
   },
   "outputs": [
    {
     "data": {
      "text/plain": [
       "<AxesSubplot:xlabel='transmission', ylabel='price'>"
      ]
     },
     "execution_count": 138,
     "metadata": {},
     "output_type": "execute_result"
    },
    {
     "data": {
      "image/png": "[encoded data removed]",
      "text/plain": [
       "<Figure size 900x540 with 1 Axes>"
      ]
     },
     "metadata": {
      "needs_background": "light"
     },
     "output_type": "display_data"
    }
   ],
   "source": [
    "resizeplot(10,6,90)\n",
    "sns.barplot(x='transmission',y='price',data=df,hue='fuelType')"
   ]
  },
  {
   "cell_type": "markdown",
   "id": "6983f97f",
   "metadata": {},
   "source": [
    "#### Abaixo verificamos um box plot com alguns possíveis outliers. Vamos tratá-los."
   ]
  },
  {
   "cell_type": "code",
   "execution_count": 139,
   "id": "d5b2ada6",
   "metadata": {},
   "outputs": [
    {
     "data": {
      "text/plain": [
       "<AxesSubplot:xlabel='fuelType', ylabel='price'>"
      ]
     },
     "execution_count": 139,
     "metadata": {},
     "output_type": "execute_result"
    },
    {
     "data": {
      "image/png": "[encoded data removed]",
      "text/plain": [
       "<Figure size 900x540 with 1 Axes>"
      ]
     },
     "metadata": {
      "needs_background": "light"
     },
     "output_type": "display_data"
    }
   ],
   "source": [
    "resizeplot(10,6,90)\n",
    "sns.boxplot(x='fuelType',y='price',data=df)"
   ]
  },
  {
   "cell_type": "code",
   "execution_count": 140,
   "id": "d8bbaf9b",
   "metadata": {},
   "outputs": [],
   "source": [
    "drop_out_other = df[(df['fuelType']=='Other')&(df['price']>50000)].index"
   ]
  },
  {
   "cell_type": "code",
   "execution_count": 141,
   "id": "00772293",
   "metadata": {},
   "outputs": [],
   "source": [
    "drop_out_hybr = df[(df['fuelType']=='Hybrid')&(df['price']>60000)].index\n",
    "drop_out_dis = df[(df['fuelType']=='Diesel')&(df['price']>100000)].index"
   ]
  },
  {
   "cell_type": "code",
   "execution_count": 142,
   "id": "01bc2e60",
   "metadata": {},
   "outputs": [],
   "source": [
    "df = df.drop(drop_out_other,axis=0)"
   ]
  },
  {
   "cell_type": "code",
   "execution_count": 143,
   "id": "54b34c10",
   "metadata": {},
   "outputs": [],
   "source": [
    "df = df.drop(drop_out_hybr,axis=0)\n",
    "df = df.drop(drop_out_dis,axis=0)"
   ]
  },
  {
   "cell_type": "code",
   "execution_count": 144,
   "id": "e123622e",
   "metadata": {
    "scrolled": true
   },
   "outputs": [
    {
     "data": {
      "text/html": [
       "<div>\n",
       "<style scoped>\n",
       "    .dataframe tbody tr th:only-of-type {\n",
       "        vertical-align: middle;\n",
       "    }\n",
       "\n",
       "    .dataframe tbody tr th {\n",
       "        vertical-align: top;\n",
       "    }\n",
       "\n",
       "    .dataframe thead th {\n",
       "        text-align: right;\n",
       "    }\n",
       "</style>\n",
       "<table border=\"1\" class=\"dataframe\">\n",
       "  <thead>\n",
       "    <tr style=\"text-align: right;\">\n",
       "      <th></th>\n",
       "      <th>model</th>\n",
       "      <th>year</th>\n",
       "      <th>price</th>\n",
       "      <th>transmission</th>\n",
       "      <th>mileage</th>\n",
       "      <th>fuelType</th>\n",
       "      <th>engineSize</th>\n",
       "    </tr>\n",
       "  </thead>\n",
       "  <tbody>\n",
       "    <tr>\n",
       "      <th>0</th>\n",
       "      <td>C Class</td>\n",
       "      <td>2020</td>\n",
       "      <td>30495</td>\n",
       "      <td>Automatic</td>\n",
       "      <td>1200</td>\n",
       "      <td>Diesel</td>\n",
       "      <td>2.0</td>\n",
       "    </tr>\n",
       "    <tr>\n",
       "      <th>1</th>\n",
       "      <td>C Class</td>\n",
       "      <td>2020</td>\n",
       "      <td>29989</td>\n",
       "      <td>Automatic</td>\n",
       "      <td>1000</td>\n",
       "      <td>Petrol</td>\n",
       "      <td>1.5</td>\n",
       "    </tr>\n",
       "    <tr>\n",
       "      <th>2</th>\n",
       "      <td>C Class</td>\n",
       "      <td>2020</td>\n",
       "      <td>37899</td>\n",
       "      <td>Automatic</td>\n",
       "      <td>500</td>\n",
       "      <td>Diesel</td>\n",
       "      <td>2.0</td>\n",
       "    </tr>\n",
       "    <tr>\n",
       "      <th>3</th>\n",
       "      <td>C Class</td>\n",
       "      <td>2019</td>\n",
       "      <td>30399</td>\n",
       "      <td>Automatic</td>\n",
       "      <td>5000</td>\n",
       "      <td>Diesel</td>\n",
       "      <td>2.0</td>\n",
       "    </tr>\n",
       "    <tr>\n",
       "      <th>4</th>\n",
       "      <td>C Class</td>\n",
       "      <td>2019</td>\n",
       "      <td>29899</td>\n",
       "      <td>Automatic</td>\n",
       "      <td>4500</td>\n",
       "      <td>Diesel</td>\n",
       "      <td>2.0</td>\n",
       "    </tr>\n",
       "  </tbody>\n",
       "</table>\n",
       "</div>"
      ],
      "text/plain": [
       "      model  year  price transmission  mileage fuelType  engineSize\n",
       "0   C Class  2020  30495    Automatic     1200   Diesel         2.0\n",
       "1   C Class  2020  29989    Automatic     1000   Petrol         1.5\n",
       "2   C Class  2020  37899    Automatic      500   Diesel         2.0\n",
       "3   C Class  2019  30399    Automatic     5000   Diesel         2.0\n",
       "4   C Class  2019  29899    Automatic     4500   Diesel         2.0"
      ]
     },
     "execution_count": 144,
     "metadata": {},
     "output_type": "execute_result"
    }
   ],
   "source": [
    "df.head()"
   ]
  },
  {
   "cell_type": "code",
   "execution_count": 145,
   "id": "318916b8",
   "metadata": {
    "scrolled": false
   },
   "outputs": [
    {
     "data": {
      "text/plain": [
       "array([2020, 2019, 2013, 2012, 2011, 2015, 2016, 2017, 2018, 2014, 2009,\n",
       "       2007, 2010, 2008, 2005, 2006, 2002, 1991, 1995, 2004, 2003, 1998,\n",
       "       1997, 2001, 2000, 1999, 1996, 2060, 1970])"
      ]
     },
     "execution_count": 145,
     "metadata": {},
     "output_type": "execute_result"
    }
   ],
   "source": [
    "df['year'].unique()"
   ]
  },
  {
   "cell_type": "code",
   "execution_count": 146,
   "id": "5951c7e3",
   "metadata": {
    "scrolled": true
   },
   "outputs": [
    {
     "data": {
      "text/plain": [
       "<seaborn.axisgrid.FacetGrid at 0x7f9ec479e550>"
      ]
     },
     "execution_count": 146,
     "metadata": {},
     "output_type": "execute_result"
    },
    {
     "data": {
      "text/plain": [
       "<Figure size 900x540 with 0 Axes>"
      ]
     },
     "metadata": {},
     "output_type": "display_data"
    },
    {
     "data": {
      "image/png": "[encoded data removed]",
      "text/plain": [
       "<Figure size 360x360 with 1 Axes>"
      ]
     },
     "metadata": {
      "needs_background": "light"
     },
     "output_type": "display_data"
    }
   ],
   "source": [
    "resizeplot(10,6,90)\n",
    "sns.relplot(x='price',y='mileage',data=df)"
   ]
  },
  {
   "cell_type": "markdown",
   "id": "f788f545",
   "metadata": {},
   "source": [
    "#### Categorizamos algumas features para o treinamento dos modelos."
   ]
  },
  {
   "cell_type": "code",
   "execution_count": 154,
   "id": "e7561356",
   "metadata": {},
   "outputs": [],
   "source": [
    "df = pd.get_dummies(df,columns=['transmission','fuelType'])"
   ]
  },
  {
   "cell_type": "code",
   "execution_count": 155,
   "id": "1a344167",
   "metadata": {
    "scrolled": true
   },
   "outputs": [
    {
     "data": {
      "text/html": [
       "<div>\n",
       "<style scoped>\n",
       "    .dataframe tbody tr th:only-of-type {\n",
       "        vertical-align: middle;\n",
       "    }\n",
       "\n",
       "    .dataframe tbody tr th {\n",
       "        vertical-align: top;\n",
       "    }\n",
       "\n",
       "    .dataframe thead th {\n",
       "        text-align: right;\n",
       "    }\n",
       "</style>\n",
       "<table border=\"1\" class=\"dataframe\">\n",
       "  <thead>\n",
       "    <tr style=\"text-align: right;\">\n",
       "      <th></th>\n",
       "      <th>model</th>\n",
       "      <th>year</th>\n",
       "      <th>price</th>\n",
       "      <th>mileage</th>\n",
       "      <th>engineSize</th>\n",
       "      <th>transmission_Automatic</th>\n",
       "      <th>transmission_Manual</th>\n",
       "      <th>transmission_Other</th>\n",
       "      <th>transmission_Semi-Auto</th>\n",
       "      <th>fuelType_Diesel</th>\n",
       "      <th>fuelType_Electric</th>\n",
       "      <th>fuelType_Hybrid</th>\n",
       "      <th>fuelType_Other</th>\n",
       "      <th>fuelType_Petrol</th>\n",
       "    </tr>\n",
       "  </thead>\n",
       "  <tbody>\n",
       "    <tr>\n",
       "      <th>0</th>\n",
       "      <td>C Class</td>\n",
       "      <td>2020</td>\n",
       "      <td>30495</td>\n",
       "      <td>1200</td>\n",
       "      <td>2.0</td>\n",
       "      <td>1</td>\n",
       "      <td>0</td>\n",
       "      <td>0</td>\n",
       "      <td>0</td>\n",
       "      <td>1</td>\n",
       "      <td>0</td>\n",
       "      <td>0</td>\n",
       "      <td>0</td>\n",
       "      <td>0</td>\n",
       "    </tr>\n",
       "    <tr>\n",
       "      <th>1</th>\n",
       "      <td>C Class</td>\n",
       "      <td>2020</td>\n",
       "      <td>29989</td>\n",
       "      <td>1000</td>\n",
       "      <td>1.5</td>\n",
       "      <td>1</td>\n",
       "      <td>0</td>\n",
       "      <td>0</td>\n",
       "      <td>0</td>\n",
       "      <td>0</td>\n",
       "      <td>0</td>\n",
       "      <td>0</td>\n",
       "      <td>0</td>\n",
       "      <td>1</td>\n",
       "    </tr>\n",
       "    <tr>\n",
       "      <th>2</th>\n",
       "      <td>C Class</td>\n",
       "      <td>2020</td>\n",
       "      <td>37899</td>\n",
       "      <td>500</td>\n",
       "      <td>2.0</td>\n",
       "      <td>1</td>\n",
       "      <td>0</td>\n",
       "      <td>0</td>\n",
       "      <td>0</td>\n",
       "      <td>1</td>\n",
       "      <td>0</td>\n",
       "      <td>0</td>\n",
       "      <td>0</td>\n",
       "      <td>0</td>\n",
       "    </tr>\n",
       "    <tr>\n",
       "      <th>3</th>\n",
       "      <td>C Class</td>\n",
       "      <td>2019</td>\n",
       "      <td>30399</td>\n",
       "      <td>5000</td>\n",
       "      <td>2.0</td>\n",
       "      <td>1</td>\n",
       "      <td>0</td>\n",
       "      <td>0</td>\n",
       "      <td>0</td>\n",
       "      <td>1</td>\n",
       "      <td>0</td>\n",
       "      <td>0</td>\n",
       "      <td>0</td>\n",
       "      <td>0</td>\n",
       "    </tr>\n",
       "    <tr>\n",
       "      <th>4</th>\n",
       "      <td>C Class</td>\n",
       "      <td>2019</td>\n",
       "      <td>29899</td>\n",
       "      <td>4500</td>\n",
       "      <td>2.0</td>\n",
       "      <td>1</td>\n",
       "      <td>0</td>\n",
       "      <td>0</td>\n",
       "      <td>0</td>\n",
       "      <td>1</td>\n",
       "      <td>0</td>\n",
       "      <td>0</td>\n",
       "      <td>0</td>\n",
       "      <td>0</td>\n",
       "    </tr>\n",
       "  </tbody>\n",
       "</table>\n",
       "</div>"
      ],
      "text/plain": [
       "      model  year  price  mileage  engineSize  transmission_Automatic  \\\n",
       "0   C Class  2020  30495     1200         2.0                       1   \n",
       "1   C Class  2020  29989     1000         1.5                       1   \n",
       "2   C Class  2020  37899      500         2.0                       1   \n",
       "3   C Class  2019  30399     5000         2.0                       1   \n",
       "4   C Class  2019  29899     4500         2.0                       1   \n",
       "\n",
       "   transmission_Manual  transmission_Other  transmission_Semi-Auto  \\\n",
       "0                    0                   0                       0   \n",
       "1                    0                   0                       0   \n",
       "2                    0                   0                       0   \n",
       "3                    0                   0                       0   \n",
       "4                    0                   0                       0   \n",
       "\n",
       "   fuelType_Diesel  fuelType_Electric  fuelType_Hybrid  fuelType_Other  \\\n",
       "0                1                  0                0               0   \n",
       "1                0                  0                0               0   \n",
       "2                1                  0                0               0   \n",
       "3                1                  0                0               0   \n",
       "4                1                  0                0               0   \n",
       "\n",
       "   fuelType_Petrol  \n",
       "0                0  \n",
       "1                1  \n",
       "2                0  \n",
       "3                0  \n",
       "4                0  "
      ]
     },
     "execution_count": 155,
     "metadata": {},
     "output_type": "execute_result"
    }
   ],
   "source": [
    "df.head()"
   ]
  },
  {
   "cell_type": "code",
   "execution_count": 178,
   "id": "45b1c284",
   "metadata": {},
   "outputs": [],
   "source": [
    "X = df.drop(['model','price'],axis=1).values\n",
    "y=df['price'].values"
   ]
  },
  {
   "cell_type": "code",
   "execution_count": 179,
   "id": "d19b5a20",
   "metadata": {},
   "outputs": [],
   "source": [
    "X_train, X_test, y_train, y_test = train_test_split(X, y, test_size=0.3, random_state=50)"
   ]
  },
  {
   "cell_type": "code",
   "execution_count": 180,
   "id": "3344434e",
   "metadata": {},
   "outputs": [],
   "source": [
    "scaler = StandardScaler()"
   ]
  },
  {
   "cell_type": "code",
   "execution_count": 192,
   "id": "3d829f3b",
   "metadata": {
    "scrolled": true
   },
   "outputs": [
    {
     "data": {
      "text/plain": [
       "StandardScaler()"
      ]
     },
     "execution_count": 192,
     "metadata": {},
     "output_type": "execute_result"
    }
   ],
   "source": [
    "scaler.fit(X_train)"
   ]
  },
  {
   "cell_type": "code",
   "execution_count": 193,
   "id": "65c7344e",
   "metadata": {},
   "outputs": [],
   "source": [
    "X_train = scaler.transform(X_train)\n",
    "X_test = scaler.transform(X_test)"
   ]
  },
  {
   "cell_type": "code",
   "execution_count": 194,
   "id": "5dcf9500",
   "metadata": {},
   "outputs": [],
   "source": [
    "#CRIANDO OS MODELOS"
   ]
  },
  {
   "cell_type": "code",
   "execution_count": 195,
   "id": "be4f419b",
   "metadata": {},
   "outputs": [],
   "source": [
    "# ELASTIC NET"
   ]
  },
  {
   "cell_type": "code",
   "execution_count": 196,
   "id": "480a19e2",
   "metadata": {},
   "outputs": [],
   "source": [
    "model_elastic = ElasticNet()\n",
    "param_grid_en = {'alpha':[0.1,1,5,10,100,200],'l1_ratio':[.1,.7,.99,1]}\n",
    "grid_model_en = GridSearchCV(model_elastic,param_grid = param_grid_en,scoring='neg_mean_squared_error',\n",
    "                            cv=5,verbose=2,n_jobs=-1)"
   ]
  },
  {
   "cell_type": "code",
   "execution_count": 197,
   "id": "f378b55a",
   "metadata": {
    "scrolled": true
   },
   "outputs": [
    {
     "name": "stdout",
     "output_type": "stream",
     "text": [
      "Fitting 5 folds for each of 24 candidates, totalling 120 fits\n"
     ]
    },
    {
     "data": {
      "text/plain": [
       "GridSearchCV(cv=5, estimator=ElasticNet(), n_jobs=-1,\n",
       "             param_grid={'alpha': [0.1, 1, 5, 10, 100, 200],\n",
       "                         'l1_ratio': [0.1, 0.7, 0.99, 1]},\n",
       "             scoring='neg_mean_squared_error', verbose=2)"
      ]
     },
     "execution_count": 197,
     "metadata": {},
     "output_type": "execute_result"
    }
   ],
   "source": [
    "grid_model_en.fit(X_train,y_train)"
   ]
  },
  {
   "cell_type": "code",
   "execution_count": 198,
   "id": "dfc7369d",
   "metadata": {},
   "outputs": [],
   "source": [
    "y_pred_en = grid_model_en.predict(X_test)"
   ]
  },
  {
   "cell_type": "code",
   "execution_count": 199,
   "id": "a5c73843",
   "metadata": {},
   "outputs": [
    {
     "name": "stdout",
     "output_type": "stream",
     "text": [
      "Score:  0.7332021318157677\n",
      "\n",
      "\n",
      "Mae:  3358.3550484350444\n",
      "Mse:  25063380.438410003\n",
      "Rmse:  5006.334031845059\n"
     ]
    }
   ],
   "source": [
    "mae_en = mean_absolute_error(y_test,y_pred_en)\n",
    "mse_en = mean_squared_error(y_test,y_pred_en)\n",
    "rmse_en = np.sqrt(mse_en)\n",
    "score_en = r2_score(y_test,y_pred_en)\n",
    "\n",
    "print('Score: ',score_en)\n",
    "print('\\n')\n",
    "print('Mae: ', mae_en)\n",
    "print('Mse: ',mse_en)\n",
    "print('Rmse: ', rmse_en)"
   ]
  },
  {
   "cell_type": "code",
   "execution_count": null,
   "id": "4ea07fbd",
   "metadata": {},
   "outputs": [],
   "source": [
    "#RANDOM FOREST REGRESSOR"
   ]
  },
  {
   "cell_type": "code",
   "execution_count": 234,
   "id": "f7bd490c",
   "metadata": {},
   "outputs": [
    {
     "data": {
      "text/plain": [
       "GridSearchCV(cv=2, estimator=RandomForestRegressor(), n_jobs=-1,\n",
       "             param_grid={'criterion': ['mae'], 'max_depth': [15],\n",
       "                         'max_features': ['auto', 'sqrt', 'log2'],\n",
       "                         'n_estimators': [150]})"
      ]
     },
     "execution_count": 234,
     "metadata": {},
     "output_type": "execute_result"
    }
   ],
   "source": [
    "rfr = RandomForestRegressor()\n",
    "param_grid_rfr = {'n_estimators':[150],'criterion':['mae'],'max_depth':[15],\n",
    "                  'max_features':['auto', 'sqrt', 'log2']}\n",
    "grid_rfr = GridSearchCV(rfr,param_grid_rfr,n_jobs=-1,cv=2)\n",
    "grid_rfr.fit(X_train,y_train)"
   ]
  },
  {
   "cell_type": "code",
   "execution_count": 235,
   "id": "a95b2e81",
   "metadata": {},
   "outputs": [
    {
     "data": {
      "text/plain": [
       "{'criterion': 'mae',\n",
       " 'max_depth': 15,\n",
       " 'max_features': 'auto',\n",
       " 'n_estimators': 150}"
      ]
     },
     "execution_count": 235,
     "metadata": {},
     "output_type": "execute_result"
    }
   ],
   "source": [
    "grid_rfr.best_params_"
   ]
  },
  {
   "cell_type": "code",
   "execution_count": 236,
   "id": "8b7fa9e1",
   "metadata": {},
   "outputs": [
    {
     "name": "stdout",
     "output_type": "stream",
     "text": [
      "Mean Absolute_error:  2453.892875688515\n",
      "Mean_Squared_Error:  14534168.374042956\n",
      "Root_Mean_Squared_Error:  3812.3704402960316\n",
      "\n",
      "\n",
      "Score_R2_js:  0.8452848310883578\n"
     ]
    }
   ],
   "source": [
    "y_pred_rfr = grid_rfr.predict(X_test)\n",
    "\n",
    "score_rfr = r2_score(y_test,y_pred_rfr)\n",
    "\n",
    "mae_rfr = mean_absolute_error(y_test,y_pred_rfr)\n",
    "mse_rfr = mean_squared_error(y_test,y_pred_rfr)\n",
    "rmse_rfr = np.sqrt(mse_rfr)\n",
    "\n",
    "print('Mean Absolute_error: ', mae_rfr)\n",
    "print('Mean_Squared_Error: ', mse_rfr)\n",
    "print('Root_Mean_Squared_Error: ', rmse_rfr)\n",
    "print('\\n')\n",
    "print('Score_R2_js: ', score_rfr)"
   ]
  },
  {
   "cell_type": "code",
   "execution_count": null,
   "id": "1824d756",
   "metadata": {},
   "outputs": [],
   "source": [
    "#DECISION TREE REGRESSOR"
   ]
  },
  {
   "cell_type": "code",
   "execution_count": 231,
   "id": "38a02f38",
   "metadata": {},
   "outputs": [
    {
     "data": {
      "text/plain": [
       "GridSearchCV(cv=3, estimator=DecisionTreeRegressor(), n_jobs=-1,\n",
       "             param_grid={'criterion': ['mse', 'friedman_mse', 'mae', 'poisson'],\n",
       "                         'max_features': ['auto', 'sqrt', 'log2'],\n",
       "                         'splitter': ['best']})"
      ]
     },
     "execution_count": 231,
     "metadata": {},
     "output_type": "execute_result"
    }
   ],
   "source": [
    "dtr = DecisionTreeRegressor()\n",
    "param_dtr_grid = {'criterion':['mse','friedman_mse', 'mae', 'poisson'],\n",
    "                  'splitter':['best'],'max_features':['auto', 'sqrt', 'log2']}\n",
    "grid_dtr = GridSearchCV(dtr,param_grid=param_dtr_grid,n_jobs=-1,cv=3)\n",
    "grid_dtr.fit(X_train,y_train)"
   ]
  },
  {
   "cell_type": "code",
   "execution_count": 232,
   "id": "a869633e",
   "metadata": {
    "scrolled": true
   },
   "outputs": [
    {
     "data": {
      "text/plain": [
       "{'criterion': 'friedman_mse', 'max_features': 'auto', 'splitter': 'best'}"
      ]
     },
     "execution_count": 232,
     "metadata": {},
     "output_type": "execute_result"
    }
   ],
   "source": [
    "grid_dtr.best_params_"
   ]
  },
  {
   "cell_type": "code",
   "execution_count": 233,
   "id": "21f251e1",
   "metadata": {},
   "outputs": [
    {
     "name": "stdout",
     "output_type": "stream",
     "text": [
      "Score_knnr:  0.7520316222040019\n",
      "\n",
      "\n",
      "Mean_Absolute_error:  2978.076608598039\n",
      "Mean_Squared_Error:  23294510.678416964\n",
      "Root_Mean_Squared_Error:  4826.438715908134\n"
     ]
    }
   ],
   "source": [
    "pred_dtr = grid_dtr.predict(X_test)\n",
    "\n",
    "mae_dtr = mean_absolute_error(y_test,pred_dtr)\n",
    "mse_dtr = mean_squared_error(y_test,pred_dtr)\n",
    "rmse_dtr = np.sqrt(mse_dtr)\n",
    "\n",
    "score_dtr = r2_score(y_test,pred_dtr)\n",
    "\n",
    "print('Score_knnr: ',score_dtr)\n",
    "print('\\n')\n",
    "print('Mean_Absolute_error: ',mae_dtr)\n",
    "print('Mean_Squared_Error: ',mse_dtr)\n",
    "print('Root_Mean_Squared_Error: ',rmse_dtr)"
   ]
  },
  {
   "cell_type": "code",
   "execution_count": 222,
   "id": "cbfe0457",
   "metadata": {},
   "outputs": [],
   "source": [
    "#KNN REGRESSOR"
   ]
  },
  {
   "cell_type": "code",
   "execution_count": 225,
   "id": "6d9bdb99",
   "metadata": {},
   "outputs": [
    {
     "data": {
      "text/plain": [
       "GridSearchCV(cv=3, estimator=KNeighborsRegressor(), n_jobs=-1,\n",
       "             param_grid={'algorithm': ['auto', 'ball_tree', 'kd_tree', 'brute'],\n",
       "                         'leaf_size': [100, 200], 'n_neighbors': [5, 15, 20]})"
      ]
     },
     "execution_count": 225,
     "metadata": {},
     "output_type": "execute_result"
    }
   ],
   "source": [
    "knnr = KNeighborsRegressor()\n",
    "param_knn_grid = {'n_neighbors':[5,15,20],'leaf_size':[100,200],\n",
    "                  'algorithm':['auto','ball_tree','kd_tree','brute']}\n",
    "grid_knnr = GridSearchCV(knnr,param_knn_grid,n_jobs=-1,cv=3)\n",
    "grid_knnr.fit(X_train,y_train)"
   ]
  },
  {
   "cell_type": "code",
   "execution_count": 226,
   "id": "c98ffb45",
   "metadata": {},
   "outputs": [
    {
     "data": {
      "text/plain": [
       "{'algorithm': 'auto', 'leaf_size': 100, 'n_neighbors': 20}"
      ]
     },
     "execution_count": 226,
     "metadata": {},
     "output_type": "execute_result"
    }
   ],
   "source": [
    "grid_knnr.best_params_"
   ]
  },
  {
   "cell_type": "code",
   "execution_count": 227,
   "id": "35445858",
   "metadata": {
    "scrolled": true
   },
   "outputs": [
    {
     "name": "stdout",
     "output_type": "stream",
     "text": [
      "Score_knnr:  0.8395447042139054\n",
      "\n",
      "\n",
      "Mean_Absolute_error:  2545.0845475766323\n",
      "Mean_Squared_Error:  15073404.25549235\n",
      "Root_Mean_Squared_Error:  3882.4482295959015\n"
     ]
    }
   ],
   "source": [
    "pred_knnr = grid_knnr.predict(X_test)\n",
    "\n",
    "mae_knr = mean_absolute_error(y_test,pred_knnr)\n",
    "mse_knr = mean_squared_error(y_test,pred_knnr)\n",
    "rmse_knr = np.sqrt(mse_knr)\n",
    "\n",
    "score_knr = r2_score(y_test,pred_knnr)\n",
    "\n",
    "print('Score_knnr: ',score_knr)\n",
    "print('\\n')\n",
    "print('Mean_Absolute_error: ',mae_knr)\n",
    "print('Mean_Squared_Error: ',mse_knr)\n",
    "print('Root_Mean_Squared_Error: ',rmse_knr)"
   ]
  },
  {
   "cell_type": "code",
   "execution_count": 200,
   "id": "8309040f",
   "metadata": {},
   "outputs": [],
   "source": [
    "#XGBOOST"
   ]
  },
  {
   "cell_type": "code",
   "execution_count": 206,
   "id": "80e8a085",
   "metadata": {},
   "outputs": [],
   "source": [
    "xgb = XGBRegressor()"
   ]
  },
  {
   "cell_type": "code",
   "execution_count": 213,
   "id": "ba20948e",
   "metadata": {},
   "outputs": [],
   "source": [
    "kfold = KFold(n_splits=5, shuffle=True)\n",
    "param_grid_x = {'n_estimators':[100,200,300],'eval_metric':['mae'],'max_depth':[2,4,6]}\n",
    "grid_xgb = GridSearchCV(xgb,param_grid_x,n_jobs=-1,cv=kfold,verbose=2)"
   ]
  },
  {
   "cell_type": "code",
   "execution_count": 214,
   "id": "57467b90",
   "metadata": {},
   "outputs": [
    {
     "name": "stdout",
     "output_type": "stream",
     "text": [
      "Fitting 5 folds for each of 9 candidates, totalling 45 fits\n"
     ]
    },
    {
     "data": {
      "text/plain": [
       "GridSearchCV(cv=KFold(n_splits=5, random_state=None, shuffle=True),\n",
       "             estimator=XGBRegressor(base_score=None, booster=None,\n",
       "                                    colsample_bylevel=None,\n",
       "                                    colsample_bynode=None,\n",
       "                                    colsample_bytree=None, gamma=None,\n",
       "                                    gpu_id=None, importance_type='gain',\n",
       "                                    interaction_constraints=None,\n",
       "                                    learning_rate=None, max_delta_step=None,\n",
       "                                    max_depth=None, min_child_weight=None,\n",
       "                                    missing=nan, monotone_constraints=None,\n",
       "                                    n_estimators=100, n_jobs=None,\n",
       "                                    num_parallel_tree=None, random_state=None,\n",
       "                                    reg_alpha=None, reg_lambda=None,\n",
       "                                    scale_pos_weight=None, subsample=None,\n",
       "                                    tree_method=None, validate_parameters=None,\n",
       "                                    verbosity=None),\n",
       "             n_jobs=-1,\n",
       "             param_grid={'eval_metric': ['mae'], 'max_depth': [2, 4, 6],\n",
       "                         'n_estimators': [100, 200, 300]},\n",
       "             verbose=2)"
      ]
     },
     "execution_count": 214,
     "metadata": {},
     "output_type": "execute_result"
    }
   ],
   "source": [
    "grid_xgb.fit(X_train,y_train)"
   ]
  },
  {
   "cell_type": "code",
   "execution_count": 215,
   "id": "41b40107",
   "metadata": {},
   "outputs": [
    {
     "data": {
      "text/plain": [
       "{'eval_metric': 'mae', 'max_depth': 4, 'n_estimators': 300}"
      ]
     },
     "execution_count": 215,
     "metadata": {},
     "output_type": "execute_result"
    }
   ],
   "source": [
    "grid_xgb.best_params_"
   ]
  },
  {
   "cell_type": "code",
   "execution_count": 216,
   "id": "ed03f24c",
   "metadata": {
    "scrolled": false
   },
   "outputs": [
    {
     "name": "stdout",
     "output_type": "stream",
     "text": [
      "Score:  0.84768166386699\n",
      "\n",
      "\n",
      "Mean_Absolute_error:  2503.5807228924946\n",
      "Mean_Squared_Error:  14309006.410842324\n",
      "Root_Mean_Squared_Error:  3782.724733686331\n"
     ]
    }
   ],
   "source": [
    "pred_xgb = grid_xgb.predict(X_test)\n",
    "\n",
    "mae_xgb = mean_absolute_error(y_test,pred_xgb)\n",
    "mse_xgb = mean_squared_error(y_test,pred_xgb)\n",
    "rmse_xgb = np.sqrt(mean_squared_error(y_test,pred_xgb))\n",
    "score_xgb = r2_score(y_test,pred_xgb)\n",
    "\n",
    "print('Score: ',score_xgb)\n",
    "print('\\n')\n",
    "print('Mean_Absolute_error: ',mae_xgb)\n",
    "print('Mean_Squared_Error: ',mse_xgb)\n",
    "print('Root_Mean_Squared_Error: ',rmse_xgb)"
   ]
  },
  {
   "cell_type": "markdown",
   "id": "9e17c2aa",
   "metadata": {},
   "source": [
    "#### Este algorítmo apresentou o melhor score.\n",
    "#### Abaixo uma representação da distribuição das predições."
   ]
  },
  {
   "cell_type": "code",
   "execution_count": 260,
   "id": "f9392352",
   "metadata": {
    "scrolled": true
   },
   "outputs": [
    {
     "data": {
      "text/plain": [
       "<AxesSubplot:ylabel='Count'>"
      ]
     },
     "execution_count": 260,
     "metadata": {},
     "output_type": "execute_result"
    },
    {
     "data": {
      "image/png": "[encoded data removed]",
      "text/plain": [
       "<Figure size 720x450 with 1 Axes>"
      ]
     },
     "metadata": {
      "needs_background": "light"
     },
     "output_type": "display_data"
    }
   ],
   "source": [
    "resizeplot(8,5,90)\n",
    "sns.histplot((y_test-pred_xgb),bins=50,kde=True)"
   ]
  },
  {
   "cell_type": "markdown",
   "id": "ab8f5951",
   "metadata": {},
   "source": [
    "#### Agora vamos aplicar em todo o conjunto de dados."
   ]
  },
  {
   "cell_type": "code",
   "execution_count": 251,
   "id": "e96fc9d0",
   "metadata": {},
   "outputs": [],
   "source": [
    "xgb_final = XGBRegressor(eval_metric= 'mae', max_depth= 4, n_estimators= 300)\n",
    "xgb_final.fit(X,y)\n",
    "pred_xgb_final = xgb_final.predict(X)"
   ]
  },
  {
   "cell_type": "code",
   "execution_count": 252,
   "id": "73bd5c8e",
   "metadata": {},
   "outputs": [],
   "source": [
    "df['predicted_prices'] = pred_xgb_final"
   ]
  },
  {
   "cell_type": "code",
   "execution_count": 254,
   "id": "24d9bac8",
   "metadata": {},
   "outputs": [],
   "source": [
    "df['price_difference'] = df['price']-df['predicted_prices']"
   ]
  },
  {
   "cell_type": "code",
   "execution_count": 256,
   "id": "e08cdc94",
   "metadata": {
    "scrolled": false
   },
   "outputs": [
    {
     "data": {
      "text/plain": [
       "Index(['model', 'year', 'price', 'mileage', 'engineSize',\n",
       "       'transmission_Automatic', 'transmission_Manual', 'transmission_Other',\n",
       "       'transmission_Semi-Auto', 'fuelType_Diesel', 'fuelType_Electric',\n",
       "       'fuelType_Hybrid', 'fuelType_Other', 'fuelType_Petrol',\n",
       "       'predicted_prices', 'price_difference'],\n",
       "      dtype='object')"
      ]
     },
     "execution_count": 256,
     "metadata": {},
     "output_type": "execute_result"
    }
   ],
   "source": [
    "df.columns"
   ]
  },
  {
   "cell_type": "markdown",
   "id": "91b4fd23",
   "metadata": {},
   "source": [
    "#### Reorganizando as colunas."
   ]
  },
  {
   "cell_type": "code",
   "execution_count": 257,
   "id": "323ca67b",
   "metadata": {},
   "outputs": [],
   "source": [
    "df = df.reindex(columns=['model', 'year', 'mileage', 'engineSize',\n",
    "                         'transmission_Automatic', 'transmission_Manual',\n",
    "                         'transmission_Other','transmission_Semi-Auto',\n",
    "                         'fuelType_Diesel', 'fuelType_Electric',\n",
    "                         'fuelType_Hybrid', 'fuelType_Other',\n",
    "                         'fuelType_Petrol','price','predicted_prices', 'price_difference'])"
   ]
  },
  {
   "cell_type": "code",
   "execution_count": 258,
   "id": "83d2e5f6",
   "metadata": {
    "scrolled": false
   },
   "outputs": [
    {
     "data": {
      "text/html": [
       "<div>\n",
       "<style scoped>\n",
       "    .dataframe tbody tr th:only-of-type {\n",
       "        vertical-align: middle;\n",
       "    }\n",
       "\n",
       "    .dataframe tbody tr th {\n",
       "        vertical-align: top;\n",
       "    }\n",
       "\n",
       "    .dataframe thead th {\n",
       "        text-align: right;\n",
       "    }\n",
       "</style>\n",
       "<table border=\"1\" class=\"dataframe\">\n",
       "  <thead>\n",
       "    <tr style=\"text-align: right;\">\n",
       "      <th></th>\n",
       "      <th>model</th>\n",
       "      <th>year</th>\n",
       "      <th>mileage</th>\n",
       "      <th>engineSize</th>\n",
       "      <th>transmission_Automatic</th>\n",
       "      <th>transmission_Manual</th>\n",
       "      <th>transmission_Other</th>\n",
       "      <th>transmission_Semi-Auto</th>\n",
       "      <th>fuelType_Diesel</th>\n",
       "      <th>fuelType_Electric</th>\n",
       "      <th>fuelType_Hybrid</th>\n",
       "      <th>fuelType_Other</th>\n",
       "      <th>fuelType_Petrol</th>\n",
       "      <th>price</th>\n",
       "      <th>predicted_prices</th>\n",
       "      <th>price_difference</th>\n",
       "    </tr>\n",
       "  </thead>\n",
       "  <tbody>\n",
       "    <tr>\n",
       "      <th>0</th>\n",
       "      <td>C Class</td>\n",
       "      <td>2020</td>\n",
       "      <td>1200</td>\n",
       "      <td>2.0</td>\n",
       "      <td>1</td>\n",
       "      <td>0</td>\n",
       "      <td>0</td>\n",
       "      <td>0</td>\n",
       "      <td>1</td>\n",
       "      <td>0</td>\n",
       "      <td>0</td>\n",
       "      <td>0</td>\n",
       "      <td>0</td>\n",
       "      <td>30495</td>\n",
       "      <td>32431.710938</td>\n",
       "      <td>-1936.710938</td>\n",
       "    </tr>\n",
       "    <tr>\n",
       "      <th>1</th>\n",
       "      <td>C Class</td>\n",
       "      <td>2020</td>\n",
       "      <td>1000</td>\n",
       "      <td>1.5</td>\n",
       "      <td>1</td>\n",
       "      <td>0</td>\n",
       "      <td>0</td>\n",
       "      <td>0</td>\n",
       "      <td>0</td>\n",
       "      <td>0</td>\n",
       "      <td>0</td>\n",
       "      <td>0</td>\n",
       "      <td>1</td>\n",
       "      <td>29989</td>\n",
       "      <td>26578.394531</td>\n",
       "      <td>3410.605469</td>\n",
       "    </tr>\n",
       "    <tr>\n",
       "      <th>2</th>\n",
       "      <td>C Class</td>\n",
       "      <td>2020</td>\n",
       "      <td>500</td>\n",
       "      <td>2.0</td>\n",
       "      <td>1</td>\n",
       "      <td>0</td>\n",
       "      <td>0</td>\n",
       "      <td>0</td>\n",
       "      <td>1</td>\n",
       "      <td>0</td>\n",
       "      <td>0</td>\n",
       "      <td>0</td>\n",
       "      <td>0</td>\n",
       "      <td>37899</td>\n",
       "      <td>32767.263672</td>\n",
       "      <td>5131.736328</td>\n",
       "    </tr>\n",
       "    <tr>\n",
       "      <th>3</th>\n",
       "      <td>C Class</td>\n",
       "      <td>2019</td>\n",
       "      <td>5000</td>\n",
       "      <td>2.0</td>\n",
       "      <td>1</td>\n",
       "      <td>0</td>\n",
       "      <td>0</td>\n",
       "      <td>0</td>\n",
       "      <td>1</td>\n",
       "      <td>0</td>\n",
       "      <td>0</td>\n",
       "      <td>0</td>\n",
       "      <td>0</td>\n",
       "      <td>30399</td>\n",
       "      <td>29486.666016</td>\n",
       "      <td>912.333984</td>\n",
       "    </tr>\n",
       "    <tr>\n",
       "      <th>4</th>\n",
       "      <td>C Class</td>\n",
       "      <td>2019</td>\n",
       "      <td>4500</td>\n",
       "      <td>2.0</td>\n",
       "      <td>1</td>\n",
       "      <td>0</td>\n",
       "      <td>0</td>\n",
       "      <td>0</td>\n",
       "      <td>1</td>\n",
       "      <td>0</td>\n",
       "      <td>0</td>\n",
       "      <td>0</td>\n",
       "      <td>0</td>\n",
       "      <td>29899</td>\n",
       "      <td>29539.373047</td>\n",
       "      <td>359.626953</td>\n",
       "    </tr>\n",
       "  </tbody>\n",
       "</table>\n",
       "</div>"
      ],
      "text/plain": [
       "      model  year  mileage  engineSize  transmission_Automatic  \\\n",
       "0   C Class  2020     1200         2.0                       1   \n",
       "1   C Class  2020     1000         1.5                       1   \n",
       "2   C Class  2020      500         2.0                       1   \n",
       "3   C Class  2019     5000         2.0                       1   \n",
       "4   C Class  2019     4500         2.0                       1   \n",
       "\n",
       "   transmission_Manual  transmission_Other  transmission_Semi-Auto  \\\n",
       "0                    0                   0                       0   \n",
       "1                    0                   0                       0   \n",
       "2                    0                   0                       0   \n",
       "3                    0                   0                       0   \n",
       "4                    0                   0                       0   \n",
       "\n",
       "   fuelType_Diesel  fuelType_Electric  fuelType_Hybrid  fuelType_Other  \\\n",
       "0                1                  0                0               0   \n",
       "1                0                  0                0               0   \n",
       "2                1                  0                0               0   \n",
       "3                1                  0                0               0   \n",
       "4                1                  0                0               0   \n",
       "\n",
       "   fuelType_Petrol  price  predicted_prices  price_difference  \n",
       "0                0  30495      32431.710938      -1936.710938  \n",
       "1                1  29989      26578.394531       3410.605469  \n",
       "2                0  37899      32767.263672       5131.736328  \n",
       "3                0  30399      29486.666016        912.333984  \n",
       "4                0  29899      29539.373047        359.626953  "
      ]
     },
     "execution_count": 258,
     "metadata": {},
     "output_type": "execute_result"
    }
   ],
   "source": [
    "df.head()"
   ]
  },
  {
   "cell_type": "markdown",
   "id": "c9c04060",
   "metadata": {},
   "source": [
    "#### No final temos as novas colunas de preços previstos e a diferença entre os preços e as previsões.\n",
    "#### Não tivemos uma diferença muito grande, cabendo ao time de negócios a melhor solução para as negociações."
   ]
  }
 ],
 "metadata": {
  "kernelspec": {
   "display_name": "Python 3",
   "language": "python",
   "name": "python3"
  },
  "language_info": {
   "codemirror_mode": {
    "name": "ipython",
    "version": 3
   },
   "file_extension": ".py",
   "mimetype": "text/x-python",
   "name": "python",
   "nbconvert_exporter": "python",
   "pygments_lexer": "ipython3",
   "version": "3.8.8"
  }
 },
 "nbformat": 4,
 "nbformat_minor": 5
}
